{
 "cells": [
  {
   "cell_type": "markdown",
   "metadata": {},
   "source": [
    "# EBAC - Regressão II - regressão múltipla\n",
    "\n",
    "## Tarefa I"
   ]
  },
  {
   "cell_type": "markdown",
   "metadata": {},
   "source": [
    "#### Previsão de renda\n",
    "\n",
    "Vamos trabalhar com a base 'previsao_de_renda.csv', que é a base do seu próximo projeto. Vamos usar os recursos que vimos até aqui nesta base.\n",
    "\n",
    "|variavel|descrição|\n",
    "|-|-|\n",
    "|data_ref                | Data de referência de coleta das variáveis |\n",
    "|index                   | Código de identificação do cliente|\n",
    "|sexo                    | Sexo do cliente|\n",
    "|posse_de_veiculo        | Indica se o cliente possui veículo|\n",
    "|posse_de_imovel         | Indica se o cliente possui imóvel|\n",
    "|qtd_filhos              | Quantidade de filhos do cliente|\n",
    "|tipo_renda              | Tipo de renda do cliente|\n",
    "|educacao                | Grau de instrução do cliente|\n",
    "|estado_civil            | Estado civil do cliente|\n",
    "|tipo_residencia         | Tipo de residência do cliente (própria, alugada etc)|\n",
    "|idade                   | Idade do cliente|\n",
    "|tempo_emprego           | Tempo no emprego atual|\n",
    "|qt_pessoas_residencia   | Quantidade de pessoas que moram na residência|\n",
    "|renda                   | Renda em reais|"
   ]
  },
  {
   "cell_type": "code",
   "execution_count": 1,
   "metadata": {},
   "outputs": [],
   "source": [
    "import pandas as pd\n",
    "import seaborn as sns\n",
    "from seaborn import load_dataset\n",
    "import matplotlib.pyplot as plt\n",
    "import seaborn as sns\n",
    "import numpy as np\n",
    "\n",
    "import patsy\n",
    "import statsmodels.api as sm\n",
    "import statsmodels.formula.api as smf\n",
    "\n",
    "%matplotlib inline"
   ]
  },
  {
   "cell_type": "code",
   "execution_count": 3,
   "metadata": {},
   "outputs": [
    {
     "data": {
      "text/html": [
       "<div>\n",
       "<style scoped>\n",
       "    .dataframe tbody tr th:only-of-type {\n",
       "        vertical-align: middle;\n",
       "    }\n",
       "\n",
       "    .dataframe tbody tr th {\n",
       "        vertical-align: top;\n",
       "    }\n",
       "\n",
       "    .dataframe thead th {\n",
       "        text-align: right;\n",
       "    }\n",
       "</style>\n",
       "<table border=\"1\" class=\"dataframe\">\n",
       "  <thead>\n",
       "    <tr style=\"text-align: right;\">\n",
       "      <th></th>\n",
       "      <th>data_ref</th>\n",
       "      <th>id_cliente</th>\n",
       "      <th>sexo</th>\n",
       "      <th>posse_de_veiculo</th>\n",
       "      <th>posse_de_imovel</th>\n",
       "      <th>qtd_filhos</th>\n",
       "      <th>tipo_renda</th>\n",
       "      <th>educacao</th>\n",
       "      <th>estado_civil</th>\n",
       "      <th>tipo_residencia</th>\n",
       "      <th>idade</th>\n",
       "      <th>tempo_emprego</th>\n",
       "      <th>qt_pessoas_residencia</th>\n",
       "      <th>renda</th>\n",
       "    </tr>\n",
       "  </thead>\n",
       "  <tbody>\n",
       "    <tr>\n",
       "      <th>0</th>\n",
       "      <td>2015-01-01</td>\n",
       "      <td>15056</td>\n",
       "      <td>F</td>\n",
       "      <td>False</td>\n",
       "      <td>True</td>\n",
       "      <td>0</td>\n",
       "      <td>Empresário</td>\n",
       "      <td>Secundário</td>\n",
       "      <td>Solteiro</td>\n",
       "      <td>Casa</td>\n",
       "      <td>26</td>\n",
       "      <td>6.602740</td>\n",
       "      <td>1.0</td>\n",
       "      <td>8060.34</td>\n",
       "    </tr>\n",
       "    <tr>\n",
       "      <th>1</th>\n",
       "      <td>2015-01-01</td>\n",
       "      <td>9968</td>\n",
       "      <td>M</td>\n",
       "      <td>True</td>\n",
       "      <td>True</td>\n",
       "      <td>0</td>\n",
       "      <td>Assalariado</td>\n",
       "      <td>Superior completo</td>\n",
       "      <td>Casado</td>\n",
       "      <td>Casa</td>\n",
       "      <td>28</td>\n",
       "      <td>7.183562</td>\n",
       "      <td>2.0</td>\n",
       "      <td>1852.15</td>\n",
       "    </tr>\n",
       "    <tr>\n",
       "      <th>2</th>\n",
       "      <td>2015-01-01</td>\n",
       "      <td>4312</td>\n",
       "      <td>F</td>\n",
       "      <td>True</td>\n",
       "      <td>True</td>\n",
       "      <td>0</td>\n",
       "      <td>Empresário</td>\n",
       "      <td>Superior completo</td>\n",
       "      <td>Casado</td>\n",
       "      <td>Casa</td>\n",
       "      <td>35</td>\n",
       "      <td>0.838356</td>\n",
       "      <td>2.0</td>\n",
       "      <td>2253.89</td>\n",
       "    </tr>\n",
       "    <tr>\n",
       "      <th>3</th>\n",
       "      <td>2015-01-01</td>\n",
       "      <td>10639</td>\n",
       "      <td>F</td>\n",
       "      <td>False</td>\n",
       "      <td>True</td>\n",
       "      <td>1</td>\n",
       "      <td>Servidor público</td>\n",
       "      <td>Superior completo</td>\n",
       "      <td>Casado</td>\n",
       "      <td>Casa</td>\n",
       "      <td>30</td>\n",
       "      <td>4.846575</td>\n",
       "      <td>3.0</td>\n",
       "      <td>6600.77</td>\n",
       "    </tr>\n",
       "    <tr>\n",
       "      <th>4</th>\n",
       "      <td>2015-01-01</td>\n",
       "      <td>7064</td>\n",
       "      <td>M</td>\n",
       "      <td>True</td>\n",
       "      <td>False</td>\n",
       "      <td>0</td>\n",
       "      <td>Assalariado</td>\n",
       "      <td>Secundário</td>\n",
       "      <td>Solteiro</td>\n",
       "      <td>Governamental</td>\n",
       "      <td>33</td>\n",
       "      <td>4.293151</td>\n",
       "      <td>1.0</td>\n",
       "      <td>6475.97</td>\n",
       "    </tr>\n",
       "  </tbody>\n",
       "</table>\n",
       "</div>"
      ],
      "text/plain": [
       "    data_ref  id_cliente sexo  posse_de_veiculo  posse_de_imovel  qtd_filhos  \\\n",
       "0 2015-01-01       15056    F             False             True           0   \n",
       "1 2015-01-01        9968    M              True             True           0   \n",
       "2 2015-01-01        4312    F              True             True           0   \n",
       "3 2015-01-01       10639    F             False             True           1   \n",
       "4 2015-01-01        7064    M              True            False           0   \n",
       "\n",
       "         tipo_renda           educacao estado_civil tipo_residencia  idade  \\\n",
       "0        Empresário         Secundário     Solteiro            Casa     26   \n",
       "1       Assalariado  Superior completo       Casado            Casa     28   \n",
       "2        Empresário  Superior completo       Casado            Casa     35   \n",
       "3  Servidor público  Superior completo       Casado            Casa     30   \n",
       "4       Assalariado         Secundário     Solteiro   Governamental     33   \n",
       "\n",
       "   tempo_emprego  qt_pessoas_residencia    renda  \n",
       "0       6.602740                    1.0  8060.34  \n",
       "1       7.183562                    2.0  1852.15  \n",
       "2       0.838356                    2.0  2253.89  \n",
       "3       4.846575                    3.0  6600.77  \n",
       "4       4.293151                    1.0  6475.97  "
      ]
     },
     "execution_count": 3,
     "metadata": {},
     "output_type": "execute_result"
    }
   ],
   "source": [
    "df = pd.read_csv('previsao_de_renda.csv', parse_dates=['data_ref'])\n",
    "df.drop('Unnamed: 0', axis=1, inplace=True)\n",
    "\n",
    "df.head()"
   ]
  },
  {
   "cell_type": "code",
   "execution_count": 5,
   "metadata": {},
   "outputs": [
    {
     "name": "stdout",
     "output_type": "stream",
     "text": [
      "<class 'pandas.core.frame.DataFrame'>\n",
      "RangeIndex: 15000 entries, 0 to 14999\n",
      "Data columns (total 14 columns):\n",
      " #   Column                 Non-Null Count  Dtype         \n",
      "---  ------                 --------------  -----         \n",
      " 0   data_ref               15000 non-null  datetime64[ns]\n",
      " 1   id_cliente             15000 non-null  int64         \n",
      " 2   sexo                   15000 non-null  object        \n",
      " 3   posse_de_veiculo       15000 non-null  bool          \n",
      " 4   posse_de_imovel        15000 non-null  bool          \n",
      " 5   qtd_filhos             15000 non-null  int64         \n",
      " 6   tipo_renda             15000 non-null  object        \n",
      " 7   educacao               15000 non-null  object        \n",
      " 8   estado_civil           15000 non-null  object        \n",
      " 9   tipo_residencia        15000 non-null  object        \n",
      " 10  idade                  15000 non-null  int64         \n",
      " 11  tempo_emprego          12427 non-null  float64       \n",
      " 12  qt_pessoas_residencia  15000 non-null  float64       \n",
      " 13  renda                  15000 non-null  float64       \n",
      "dtypes: bool(2), datetime64[ns](1), float64(3), int64(3), object(5)\n",
      "memory usage: 1.4+ MB\n"
     ]
    }
   ],
   "source": [
    "df.info()"
   ]
  },
  {
   "cell_type": "markdown",
   "metadata": {},
   "source": [
    "1. Ajuste um modelo para prever log(renda) considerando todas as covariáveis disponíveis.\n",
    "    - Utilizando os recursos do Patsy, coloque as variáveis qualitativas como *dummies*.\n",
    "    - Mantenha sempre a categoria mais frequente como casela de referência\n",
    "    - Avalie os parâmetros e veja se parecem fazer sentido prático.  \n",
    "\n",
    "\n",
    "2. Remova a variável menos significante e analise:\n",
    "    - Observe os indicadores que vimos, e avalie se o modelo melhorou ou piorou na sua opinião.\n",
    "    - Observe os parâmetros e veja se algum se alterou muito.  \n",
    "\n",
    "\n",
    "3. Siga removendo as variáveis menos significantes, sempre que o *p-value* for menor que 5%. Compare o modelo final com o inicial. Observe os indicadores e conclua se o modelo parece melhor. \n",
    "    "
   ]
  },
  {
   "cell_type": "code",
   "execution_count": 7,
   "metadata": {},
   "outputs": [
    {
     "data": {
      "text/html": [
       "<div>\n",
       "<style scoped>\n",
       "    .dataframe tbody tr th:only-of-type {\n",
       "        vertical-align: middle;\n",
       "    }\n",
       "\n",
       "    .dataframe tbody tr th {\n",
       "        vertical-align: top;\n",
       "    }\n",
       "\n",
       "    .dataframe thead th {\n",
       "        text-align: right;\n",
       "    }\n",
       "</style>\n",
       "<table border=\"1\" class=\"dataframe\">\n",
       "  <thead>\n",
       "    <tr style=\"text-align: right;\">\n",
       "      <th></th>\n",
       "      <th>sexo</th>\n",
       "      <th>posse_de_veiculo</th>\n",
       "      <th>posse_de_imovel</th>\n",
       "      <th>tipo_renda</th>\n",
       "      <th>educacao</th>\n",
       "      <th>estado_civil</th>\n",
       "      <th>tipo_residencia</th>\n",
       "    </tr>\n",
       "  </thead>\n",
       "  <tbody>\n",
       "    <tr>\n",
       "      <th>0</th>\n",
       "      <td>F</td>\n",
       "      <td>False</td>\n",
       "      <td>True</td>\n",
       "      <td>Empresário</td>\n",
       "      <td>Secundário</td>\n",
       "      <td>Solteiro</td>\n",
       "      <td>Casa</td>\n",
       "    </tr>\n",
       "    <tr>\n",
       "      <th>1</th>\n",
       "      <td>M</td>\n",
       "      <td>True</td>\n",
       "      <td>True</td>\n",
       "      <td>Assalariado</td>\n",
       "      <td>Superior completo</td>\n",
       "      <td>Casado</td>\n",
       "      <td>Casa</td>\n",
       "    </tr>\n",
       "    <tr>\n",
       "      <th>2</th>\n",
       "      <td>F</td>\n",
       "      <td>True</td>\n",
       "      <td>True</td>\n",
       "      <td>Empresário</td>\n",
       "      <td>Superior completo</td>\n",
       "      <td>Casado</td>\n",
       "      <td>Casa</td>\n",
       "    </tr>\n",
       "    <tr>\n",
       "      <th>3</th>\n",
       "      <td>F</td>\n",
       "      <td>False</td>\n",
       "      <td>True</td>\n",
       "      <td>Servidor público</td>\n",
       "      <td>Superior completo</td>\n",
       "      <td>Casado</td>\n",
       "      <td>Casa</td>\n",
       "    </tr>\n",
       "    <tr>\n",
       "      <th>4</th>\n",
       "      <td>M</td>\n",
       "      <td>True</td>\n",
       "      <td>False</td>\n",
       "      <td>Assalariado</td>\n",
       "      <td>Secundário</td>\n",
       "      <td>Solteiro</td>\n",
       "      <td>Governamental</td>\n",
       "    </tr>\n",
       "  </tbody>\n",
       "</table>\n",
       "</div>"
      ],
      "text/plain": [
       "  sexo  posse_de_veiculo  posse_de_imovel        tipo_renda  \\\n",
       "0    F             False             True        Empresário   \n",
       "1    M              True             True       Assalariado   \n",
       "2    F              True             True        Empresário   \n",
       "3    F             False             True  Servidor público   \n",
       "4    M              True            False       Assalariado   \n",
       "\n",
       "            educacao estado_civil tipo_residencia  \n",
       "0         Secundário     Solteiro            Casa  \n",
       "1  Superior completo       Casado            Casa  \n",
       "2  Superior completo       Casado            Casa  \n",
       "3  Superior completo       Casado            Casa  \n",
       "4         Secundário     Solteiro   Governamental  "
      ]
     },
     "execution_count": 7,
     "metadata": {},
     "output_type": "execute_result"
    }
   ],
   "source": [
    "var_qualitativa = df.select_dtypes(include=['object','bool'])\n",
    "var_qualitativa.head()"
   ]
  },
  {
   "cell_type": "code",
   "execution_count": 9,
   "metadata": {},
   "outputs": [
    {
     "data": {
      "text/plain": [
       "sexo\n",
       "F    10119\n",
       "M     4881\n",
       "Name: count, dtype: int64"
      ]
     },
     "execution_count": 9,
     "metadata": {},
     "output_type": "execute_result"
    }
   ],
   "source": [
    "var_qualitativa['sexo'].value_counts()"
   ]
  },
  {
   "cell_type": "code",
   "execution_count": 11,
   "metadata": {},
   "outputs": [
    {
     "data": {
      "text/plain": [
       "posse_de_veiculo\n",
       "False    9140\n",
       "True     5860\n",
       "Name: count, dtype: int64"
      ]
     },
     "execution_count": 11,
     "metadata": {},
     "output_type": "execute_result"
    }
   ],
   "source": [
    "var_qualitativa['posse_de_veiculo'].value_counts()"
   ]
  },
  {
   "cell_type": "code",
   "execution_count": 13,
   "metadata": {},
   "outputs": [
    {
     "data": {
      "text/plain": [
       "posse_de_imovel\n",
       "True     10143\n",
       "False     4857\n",
       "Name: count, dtype: int64"
      ]
     },
     "execution_count": 13,
     "metadata": {},
     "output_type": "execute_result"
    }
   ],
   "source": [
    "var_qualitativa['posse_de_imovel'].value_counts()"
   ]
  },
  {
   "cell_type": "code",
   "execution_count": 15,
   "metadata": {},
   "outputs": [
    {
     "data": {
      "text/plain": [
       "tipo_renda\n",
       "Assalariado         7633\n",
       "Empresário          3508\n",
       "Pensionista         2582\n",
       "Servidor público    1268\n",
       "Bolsista               9\n",
       "Name: count, dtype: int64"
      ]
     },
     "execution_count": 15,
     "metadata": {},
     "output_type": "execute_result"
    }
   ],
   "source": [
    "var_qualitativa['tipo_renda'].value_counts()"
   ]
  },
  {
   "cell_type": "code",
   "execution_count": 17,
   "metadata": {},
   "outputs": [
    {
     "data": {
      "text/plain": [
       "educacao\n",
       "Secundário             8895\n",
       "Superior completo      5335\n",
       "Superior incompleto     579\n",
       "Primário                165\n",
       "Pós graduação            26\n",
       "Name: count, dtype: int64"
      ]
     },
     "execution_count": 17,
     "metadata": {},
     "output_type": "execute_result"
    }
   ],
   "source": [
    "var_qualitativa['educacao'].value_counts()"
   ]
  },
  {
   "cell_type": "code",
   "execution_count": 19,
   "metadata": {},
   "outputs": [
    {
     "data": {
      "text/plain": [
       "estado_civil\n",
       "Casado      10534\n",
       "Solteiro     1798\n",
       "União        1078\n",
       "Separado      879\n",
       "Viúvo         711\n",
       "Name: count, dtype: int64"
      ]
     },
     "execution_count": 19,
     "metadata": {},
     "output_type": "execute_result"
    }
   ],
   "source": [
    "var_qualitativa['estado_civil'].value_counts()"
   ]
  },
  {
   "cell_type": "code",
   "execution_count": 21,
   "metadata": {},
   "outputs": [
    {
     "data": {
      "text/plain": [
       "tipo_residencia\n",
       "Casa             13532\n",
       "Com os pais        675\n",
       "Governamental      452\n",
       "Aluguel            194\n",
       "Estúdio             83\n",
       "Comunitário         64\n",
       "Name: count, dtype: int64"
      ]
     },
     "execution_count": 21,
     "metadata": {},
     "output_type": "execute_result"
    }
   ],
   "source": [
    "var_qualitativa['tipo_residencia'].value_counts()"
   ]
  },
  {
   "cell_type": "code",
   "execution_count": null,
   "metadata": {},
   "outputs": [],
   "source": [
    "plt.close('all')\n",
    "\n",
    "plt.rc('figure', figsize=(15, 17))\n",
    "fig, axes = plt.subplots(3, 3)\n",
    "\n",
    "sns.barplot(ax = axes[0, 0],y = 'renda', x = 'sexo', data = df)\n",
    "sns.barplot(ax = axes[0, 1],y = 'renda', x = 'posse_de_veiculo', data = df)\n",
    "sns.pointplot(ax = axes[0, 2],y = 'renda', x = 'posse_de_imovel', data = df)\n",
    "tipo_renda = sns.pointplot(ax = axes[1, 0],y = 'renda', x = 'tipo_renda', data = df)\n",
    "educação = sns.pointplot(ax = axes[1, 1],y = 'renda', x = 'educacao', data = df)\n",
    "sns.pointplot(ax = axes[1, 2],y = 'renda', x = 'estado_civil', data = df)\n",
    "tipo_residencia = sns.pointplot(ax = axes[2, 0],y = 'renda', x = 'tipo_residencia', data = df)\n",
    "\n",
    "tipo_renda.set_xticklabels(tipo_renda.get_xticklabels(), rotation=90, horizontalalignment='right')\n",
    "educação.set_xticklabels(educação.get_xticklabels(), rotation=90, horizontalalignment='right')\n",
    "tipo_residencia.set_xticklabels(tipo_residencia.get_xticklabels(), rotation=90, horizontalalignment='right')\n",
    "\n",
    "plt.subplots_adjust(wspace=0.4, hspace=0.6)"
   ]
  },
  {
   "cell_type": "code",
   "execution_count": 27,
   "metadata": {},
   "outputs": [
    {
     "data": {
      "text/plain": [
       "DesignMatrix with shape (12427, 25)\n",
       "  Columns:\n",
       "    ['Intercept',\n",
       "     'C(sexo, Treatment(0))[T.M]',\n",
       "     'C(posse_de_veiculo, Treatment(0))[T.True]',\n",
       "     'C(posse_de_imovel, Treatment(0))[T.True]',\n",
       "     'C(tipo_renda, Treatment(1))[T.Assalariado]',\n",
       "     'C(tipo_renda, Treatment(1))[T.Empresário]',\n",
       "     'C(tipo_renda, Treatment(1))[T.Pensionista]',\n",
       "     'C(tipo_renda, Treatment(1))[T.Servidor público]',\n",
       "     'C(educacao, Treatment(1))[T.Primário]',\n",
       "     'C(educacao, Treatment(1))[T.Secundário]',\n",
       "     'C(educacao, Treatment(1))[T.Superior completo]',\n",
       "     'C(educacao, Treatment(1))[T.Superior incompleto]',\n",
       "     'C(estado_civil, Treatment(1))[T.Casado]',\n",
       "     'C(estado_civil, Treatment(1))[T.Solteiro]',\n",
       "     'C(estado_civil, Treatment(1))[T.União]',\n",
       "     'C(estado_civil, Treatment(1))[T.Viúvo]',\n",
       "     'C(tipo_residencia, Treatment(1))[T.Aluguel]',\n",
       "     'C(tipo_residencia, Treatment(1))[T.Com os pais]',\n",
       "     'C(tipo_residencia, Treatment(1))[T.Comunitário]',\n",
       "     'C(tipo_residencia, Treatment(1))[T.Estúdio]',\n",
       "     'C(tipo_residencia, Treatment(1))[T.Governamental]',\n",
       "     'qtd_filhos',\n",
       "     'idade',\n",
       "     'tempo_emprego',\n",
       "     'qt_pessoas_residencia']\n",
       "  Terms:\n",
       "    'Intercept' (column 0)\n",
       "    'C(sexo, Treatment(0))' (column 1)\n",
       "    'C(posse_de_veiculo, Treatment(0))' (column 2)\n",
       "    'C(posse_de_imovel, Treatment(0))' (column 3)\n",
       "    'C(tipo_renda, Treatment(1))' (columns 4:8)\n",
       "    'C(educacao, Treatment(1))' (columns 8:12)\n",
       "    'C(estado_civil, Treatment(1))' (columns 12:16)\n",
       "    'C(tipo_residencia, Treatment(1))' (columns 16:21)\n",
       "    'qtd_filhos' (column 21)\n",
       "    'idade' (column 22)\n",
       "    'tempo_emprego' (column 23)\n",
       "    'qt_pessoas_residencia' (column 24)\n",
       "  (to view full data, use np.asarray(this_obj))"
      ]
     },
     "execution_count": 27,
     "metadata": {},
     "output_type": "execute_result"
    }
   ],
   "source": [
    "y, x = patsy.dmatrices('''np.log(renda) ~ C(sexo, Treatment(0))\n",
    "                               + C(posse_de_veiculo, Treatment(0))  \n",
    "                               + C(posse_de_imovel, Treatment(0))\n",
    "                               + C(tipo_renda, Treatment(1))\n",
    "                               + C(educacao, Treatment(1))\n",
    "                               + C(estado_civil, Treatment(1))\n",
    "                               + C(tipo_residencia, Treatment(1))                                                           \n",
    "                               + qtd_filhos\n",
    "                               + idade\n",
    "                               + tempo_emprego\n",
    "                               + qt_pessoas_residencia\n",
    "                       ''', data = df)\n",
    "x"
   ]
  },
  {
   "cell_type": "code",
   "execution_count": 29,
   "metadata": {},
   "outputs": [
    {
     "data": {
      "text/html": [
       "<table class=\"simpletable\">\n",
       "<caption>OLS Regression Results</caption>\n",
       "<tr>\n",
       "  <th>Dep. Variable:</th>      <td>np.log(renda)</td>  <th>  R-squared:         </th> <td>   0.357</td> \n",
       "</tr>\n",
       "<tr>\n",
       "  <th>Model:</th>                   <td>OLS</td>       <th>  Adj. R-squared:    </th> <td>   0.356</td> \n",
       "</tr>\n",
       "<tr>\n",
       "  <th>Method:</th>             <td>Least Squares</td>  <th>  F-statistic:       </th> <td>   287.5</td> \n",
       "</tr>\n",
       "<tr>\n",
       "  <th>Date:</th>             <td>Wed, 25 Jun 2025</td> <th>  Prob (F-statistic):</th>  <td>  0.00</td>  \n",
       "</tr>\n",
       "<tr>\n",
       "  <th>Time:</th>                 <td>13:41:59</td>     <th>  Log-Likelihood:    </th> <td> -13568.</td> \n",
       "</tr>\n",
       "<tr>\n",
       "  <th>No. Observations:</th>      <td> 12427</td>      <th>  AIC:               </th> <td>2.719e+04</td>\n",
       "</tr>\n",
       "<tr>\n",
       "  <th>Df Residuals:</th>          <td> 12402</td>      <th>  BIC:               </th> <td>2.737e+04</td>\n",
       "</tr>\n",
       "<tr>\n",
       "  <th>Df Model:</th>              <td>    24</td>      <th>                     </th>     <td> </td>    \n",
       "</tr>\n",
       "<tr>\n",
       "  <th>Covariance Type:</th>      <td>nonrobust</td>    <th>                     </th>     <td> </td>    \n",
       "</tr>\n",
       "</table>\n",
       "<table class=\"simpletable\">\n",
       "<tr>\n",
       "                          <td></td>                             <th>coef</th>     <th>std err</th>      <th>t</th>      <th>P>|t|</th>  <th>[0.025</th>    <th>0.975]</th>  \n",
       "</tr>\n",
       "<tr>\n",
       "  <th>Intercept</th>                                         <td>    7.1950</td> <td>    0.304</td> <td>   23.660</td> <td> 0.000</td> <td>    6.599</td> <td>    7.791</td>\n",
       "</tr>\n",
       "<tr>\n",
       "  <th>C(sexo, Treatment(0))[T.M]</th>                        <td>    0.7874</td> <td>    0.015</td> <td>   53.723</td> <td> 0.000</td> <td>    0.759</td> <td>    0.816</td>\n",
       "</tr>\n",
       "<tr>\n",
       "  <th>C(posse_de_veiculo, Treatment(0))[T.True]</th>         <td>    0.0441</td> <td>    0.014</td> <td>    3.119</td> <td> 0.002</td> <td>    0.016</td> <td>    0.072</td>\n",
       "</tr>\n",
       "<tr>\n",
       "  <th>C(posse_de_imovel, Treatment(0))[T.True]</th>          <td>    0.0829</td> <td>    0.014</td> <td>    5.926</td> <td> 0.000</td> <td>    0.055</td> <td>    0.110</td>\n",
       "</tr>\n",
       "<tr>\n",
       "  <th>C(tipo_renda, Treatment(1))[T.Assalariado]</th>        <td>   -0.2209</td> <td>    0.241</td> <td>   -0.916</td> <td> 0.360</td> <td>   -0.694</td> <td>    0.252</td>\n",
       "</tr>\n",
       "<tr>\n",
       "  <th>C(tipo_renda, Treatment(1))[T.Empresário]</th>         <td>   -0.0657</td> <td>    0.241</td> <td>   -0.272</td> <td> 0.785</td> <td>   -0.539</td> <td>    0.407</td>\n",
       "</tr>\n",
       "<tr>\n",
       "  <th>C(tipo_renda, Treatment(1))[T.Pensionista]</th>        <td>   -0.5296</td> <td>    0.341</td> <td>   -1.553</td> <td> 0.120</td> <td>   -1.198</td> <td>    0.139</td>\n",
       "</tr>\n",
       "<tr>\n",
       "  <th>C(tipo_renda, Treatment(1))[T.Servidor público]</th>   <td>   -0.1633</td> <td>    0.242</td> <td>   -0.675</td> <td> 0.500</td> <td>   -0.637</td> <td>    0.311</td>\n",
       "</tr>\n",
       "<tr>\n",
       "  <th>C(educacao, Treatment(1))[T.Primário]</th>             <td>   -0.1071</td> <td>    0.159</td> <td>   -0.673</td> <td> 0.501</td> <td>   -0.419</td> <td>    0.205</td>\n",
       "</tr>\n",
       "<tr>\n",
       "  <th>C(educacao, Treatment(1))[T.Secundário]</th>           <td>   -0.1212</td> <td>    0.142</td> <td>   -0.853</td> <td> 0.394</td> <td>   -0.400</td> <td>    0.157</td>\n",
       "</tr>\n",
       "<tr>\n",
       "  <th>C(educacao, Treatment(1))[T.Superior completo]</th>    <td>   -0.0133</td> <td>    0.142</td> <td>   -0.093</td> <td> 0.926</td> <td>   -0.292</td> <td>    0.265</td>\n",
       "</tr>\n",
       "<tr>\n",
       "  <th>C(educacao, Treatment(1))[T.Superior incompleto]</th>  <td>   -0.1502</td> <td>    0.145</td> <td>   -1.035</td> <td> 0.301</td> <td>   -0.435</td> <td>    0.134</td>\n",
       "</tr>\n",
       "<tr>\n",
       "  <th>C(estado_civil, Treatment(1))[T.Casado]</th>           <td>   -0.3265</td> <td>    0.111</td> <td>   -2.935</td> <td> 0.003</td> <td>   -0.545</td> <td>   -0.108</td>\n",
       "</tr>\n",
       "<tr>\n",
       "  <th>C(estado_civil, Treatment(1))[T.Solteiro]</th>         <td>   -0.0593</td> <td>    0.033</td> <td>   -1.809</td> <td> 0.071</td> <td>   -0.124</td> <td>    0.005</td>\n",
       "</tr>\n",
       "<tr>\n",
       "  <th>C(estado_civil, Treatment(1))[T.União]</th>            <td>   -0.3607</td> <td>    0.113</td> <td>   -3.182</td> <td> 0.001</td> <td>   -0.583</td> <td>   -0.138</td>\n",
       "</tr>\n",
       "<tr>\n",
       "  <th>C(estado_civil, Treatment(1))[T.Viúvo]</th>            <td>    0.0424</td> <td>    0.048</td> <td>    0.875</td> <td> 0.382</td> <td>   -0.053</td> <td>    0.137</td>\n",
       "</tr>\n",
       "<tr>\n",
       "  <th>C(tipo_residencia, Treatment(1))[T.Aluguel]</th>       <td>    0.0442</td> <td>    0.054</td> <td>    0.815</td> <td> 0.415</td> <td>   -0.062</td> <td>    0.150</td>\n",
       "</tr>\n",
       "<tr>\n",
       "  <th>C(tipo_residencia, Treatment(1))[T.Com os pais]</th>   <td>    0.0184</td> <td>    0.029</td> <td>    0.625</td> <td> 0.532</td> <td>   -0.039</td> <td>    0.076</td>\n",
       "</tr>\n",
       "<tr>\n",
       "  <th>C(tipo_residencia, Treatment(1))[T.Comunitário]</th>   <td>   -0.0754</td> <td>    0.091</td> <td>   -0.829</td> <td> 0.407</td> <td>   -0.254</td> <td>    0.103</td>\n",
       "</tr>\n",
       "<tr>\n",
       "  <th>C(tipo_residencia, Treatment(1))[T.Estúdio]</th>       <td>    0.1107</td> <td>    0.084</td> <td>    1.319</td> <td> 0.187</td> <td>   -0.054</td> <td>    0.275</td>\n",
       "</tr>\n",
       "<tr>\n",
       "  <th>C(tipo_residencia, Treatment(1))[T.Governamental]</th> <td>   -0.0129</td> <td>    0.039</td> <td>   -0.331</td> <td> 0.741</td> <td>   -0.089</td> <td>    0.064</td>\n",
       "</tr>\n",
       "<tr>\n",
       "  <th>qtd_filhos</th>                                        <td>   -0.2658</td> <td>    0.108</td> <td>   -2.463</td> <td> 0.014</td> <td>   -0.477</td> <td>   -0.054</td>\n",
       "</tr>\n",
       "<tr>\n",
       "  <th>idade</th>                                             <td>    0.0053</td> <td>    0.001</td> <td>    6.624</td> <td> 0.000</td> <td>    0.004</td> <td>    0.007</td>\n",
       "</tr>\n",
       "<tr>\n",
       "  <th>tempo_emprego</th>                                     <td>    0.0617</td> <td>    0.001</td> <td>   59.398</td> <td> 0.000</td> <td>    0.060</td> <td>    0.064</td>\n",
       "</tr>\n",
       "<tr>\n",
       "  <th>qt_pessoas_residencia</th>                             <td>    0.2926</td> <td>    0.108</td> <td>    2.716</td> <td> 0.007</td> <td>    0.081</td> <td>    0.504</td>\n",
       "</tr>\n",
       "</table>\n",
       "<table class=\"simpletable\">\n",
       "<tr>\n",
       "  <th>Omnibus:</th>       <td> 0.858</td> <th>  Durbin-Watson:     </th> <td>   2.023</td>\n",
       "</tr>\n",
       "<tr>\n",
       "  <th>Prob(Omnibus):</th> <td> 0.651</td> <th>  Jarque-Bera (JB):  </th> <td>   0.839</td>\n",
       "</tr>\n",
       "<tr>\n",
       "  <th>Skew:</th>          <td> 0.019</td> <th>  Prob(JB):          </th> <td>   0.657</td>\n",
       "</tr>\n",
       "<tr>\n",
       "  <th>Kurtosis:</th>      <td> 3.012</td> <th>  Cond. No.          </th> <td>3.69e+03</td>\n",
       "</tr>\n",
       "</table><br/><br/>Notes:<br/>[1] Standard Errors assume that the covariance matrix of the errors is correctly specified.<br/>[2] The condition number is large, 3.69e+03. This might indicate that there are<br/>strong multicollinearity or other numerical problems."
      ],
      "text/latex": [
       "\\begin{center}\n",
       "\\begin{tabular}{lclc}\n",
       "\\toprule\n",
       "\\textbf{Dep. Variable:}                                     &  np.log(renda)   & \\textbf{  R-squared:         } &     0.357   \\\\\n",
       "\\textbf{Model:}                                             &       OLS        & \\textbf{  Adj. R-squared:    } &     0.356   \\\\\n",
       "\\textbf{Method:}                                            &  Least Squares   & \\textbf{  F-statistic:       } &     287.5   \\\\\n",
       "\\textbf{Date:}                                              & Wed, 25 Jun 2025 & \\textbf{  Prob (F-statistic):} &     0.00    \\\\\n",
       "\\textbf{Time:}                                              &     13:41:59     & \\textbf{  Log-Likelihood:    } &   -13568.   \\\\\n",
       "\\textbf{No. Observations:}                                  &       12427      & \\textbf{  AIC:               } & 2.719e+04   \\\\\n",
       "\\textbf{Df Residuals:}                                      &       12402      & \\textbf{  BIC:               } & 2.737e+04   \\\\\n",
       "\\textbf{Df Model:}                                          &          24      & \\textbf{                     } &             \\\\\n",
       "\\textbf{Covariance Type:}                                   &    nonrobust     & \\textbf{                     } &             \\\\\n",
       "\\bottomrule\n",
       "\\end{tabular}\n",
       "\\begin{tabular}{lcccccc}\n",
       "                                                            & \\textbf{coef} & \\textbf{std err} & \\textbf{t} & \\textbf{P$> |$t$|$} & \\textbf{[0.025} & \\textbf{0.975]}  \\\\\n",
       "\\midrule\n",
       "\\textbf{Intercept}                                          &       7.1950  &        0.304     &    23.660  &         0.000        &        6.599    &        7.791     \\\\\n",
       "\\textbf{C(sexo, Treatment(0))[T.M]}                         &       0.7874  &        0.015     &    53.723  &         0.000        &        0.759    &        0.816     \\\\\n",
       "\\textbf{C(posse\\_de\\_veiculo, Treatment(0))[T.True]}        &       0.0441  &        0.014     &     3.119  &         0.002        &        0.016    &        0.072     \\\\\n",
       "\\textbf{C(posse\\_de\\_imovel, Treatment(0))[T.True]}         &       0.0829  &        0.014     &     5.926  &         0.000        &        0.055    &        0.110     \\\\\n",
       "\\textbf{C(tipo\\_renda, Treatment(1))[T.Assalariado]}        &      -0.2209  &        0.241     &    -0.916  &         0.360        &       -0.694    &        0.252     \\\\\n",
       "\\textbf{C(tipo\\_renda, Treatment(1))[T.Empresário]}         &      -0.0657  &        0.241     &    -0.272  &         0.785        &       -0.539    &        0.407     \\\\\n",
       "\\textbf{C(tipo\\_renda, Treatment(1))[T.Pensionista]}        &      -0.5296  &        0.341     &    -1.553  &         0.120        &       -1.198    &        0.139     \\\\\n",
       "\\textbf{C(tipo\\_renda, Treatment(1))[T.Servidor público]}   &      -0.1633  &        0.242     &    -0.675  &         0.500        &       -0.637    &        0.311     \\\\\n",
       "\\textbf{C(educacao, Treatment(1))[T.Primário]}              &      -0.1071  &        0.159     &    -0.673  &         0.501        &       -0.419    &        0.205     \\\\\n",
       "\\textbf{C(educacao, Treatment(1))[T.Secundário]}            &      -0.1212  &        0.142     &    -0.853  &         0.394        &       -0.400    &        0.157     \\\\\n",
       "\\textbf{C(educacao, Treatment(1))[T.Superior completo]}     &      -0.0133  &        0.142     &    -0.093  &         0.926        &       -0.292    &        0.265     \\\\\n",
       "\\textbf{C(educacao, Treatment(1))[T.Superior incompleto]}   &      -0.1502  &        0.145     &    -1.035  &         0.301        &       -0.435    &        0.134     \\\\\n",
       "\\textbf{C(estado\\_civil, Treatment(1))[T.Casado]}           &      -0.3265  &        0.111     &    -2.935  &         0.003        &       -0.545    &       -0.108     \\\\\n",
       "\\textbf{C(estado\\_civil, Treatment(1))[T.Solteiro]}         &      -0.0593  &        0.033     &    -1.809  &         0.071        &       -0.124    &        0.005     \\\\\n",
       "\\textbf{C(estado\\_civil, Treatment(1))[T.União]}            &      -0.3607  &        0.113     &    -3.182  &         0.001        &       -0.583    &       -0.138     \\\\\n",
       "\\textbf{C(estado\\_civil, Treatment(1))[T.Viúvo]}            &       0.0424  &        0.048     &     0.875  &         0.382        &       -0.053    &        0.137     \\\\\n",
       "\\textbf{C(tipo\\_residencia, Treatment(1))[T.Aluguel]}       &       0.0442  &        0.054     &     0.815  &         0.415        &       -0.062    &        0.150     \\\\\n",
       "\\textbf{C(tipo\\_residencia, Treatment(1))[T.Com os pais]}   &       0.0184  &        0.029     &     0.625  &         0.532        &       -0.039    &        0.076     \\\\\n",
       "\\textbf{C(tipo\\_residencia, Treatment(1))[T.Comunitário]}   &      -0.0754  &        0.091     &    -0.829  &         0.407        &       -0.254    &        0.103     \\\\\n",
       "\\textbf{C(tipo\\_residencia, Treatment(1))[T.Estúdio]}       &       0.1107  &        0.084     &     1.319  &         0.187        &       -0.054    &        0.275     \\\\\n",
       "\\textbf{C(tipo\\_residencia, Treatment(1))[T.Governamental]} &      -0.0129  &        0.039     &    -0.331  &         0.741        &       -0.089    &        0.064     \\\\\n",
       "\\textbf{qtd\\_filhos}                                        &      -0.2658  &        0.108     &    -2.463  &         0.014        &       -0.477    &       -0.054     \\\\\n",
       "\\textbf{idade}                                              &       0.0053  &        0.001     &     6.624  &         0.000        &        0.004    &        0.007     \\\\\n",
       "\\textbf{tempo\\_emprego}                                     &       0.0617  &        0.001     &    59.398  &         0.000        &        0.060    &        0.064     \\\\\n",
       "\\textbf{qt\\_pessoas\\_residencia}                            &       0.2926  &        0.108     &     2.716  &         0.007        &        0.081    &        0.504     \\\\\n",
       "\\bottomrule\n",
       "\\end{tabular}\n",
       "\\begin{tabular}{lclc}\n",
       "\\textbf{Omnibus:}       &  0.858 & \\textbf{  Durbin-Watson:     } &    2.023  \\\\\n",
       "\\textbf{Prob(Omnibus):} &  0.651 & \\textbf{  Jarque-Bera (JB):  } &    0.839  \\\\\n",
       "\\textbf{Skew:}          &  0.019 & \\textbf{  Prob(JB):          } &    0.657  \\\\\n",
       "\\textbf{Kurtosis:}      &  3.012 & \\textbf{  Cond. No.          } & 3.69e+03  \\\\\n",
       "\\bottomrule\n",
       "\\end{tabular}\n",
       "%\\caption{OLS Regression Results}\n",
       "\\end{center}\n",
       "\n",
       "Notes: \\newline\n",
       " [1] Standard Errors assume that the covariance matrix of the errors is correctly specified. \\newline\n",
       " [2] The condition number is large, 3.69e+03. This might indicate that there are \\newline\n",
       " strong multicollinearity or other numerical problems."
      ],
      "text/plain": [
       "<class 'statsmodels.iolib.summary.Summary'>\n",
       "\"\"\"\n",
       "                            OLS Regression Results                            \n",
       "==============================================================================\n",
       "Dep. Variable:          np.log(renda)   R-squared:                       0.357\n",
       "Model:                            OLS   Adj. R-squared:                  0.356\n",
       "Method:                 Least Squares   F-statistic:                     287.5\n",
       "Date:                Wed, 25 Jun 2025   Prob (F-statistic):               0.00\n",
       "Time:                        13:41:59   Log-Likelihood:                -13568.\n",
       "No. Observations:               12427   AIC:                         2.719e+04\n",
       "Df Residuals:                   12402   BIC:                         2.737e+04\n",
       "Df Model:                          24                                         \n",
       "Covariance Type:            nonrobust                                         \n",
       "=====================================================================================================================\n",
       "                                                        coef    std err          t      P>|t|      [0.025      0.975]\n",
       "---------------------------------------------------------------------------------------------------------------------\n",
       "Intercept                                             7.1950      0.304     23.660      0.000       6.599       7.791\n",
       "C(sexo, Treatment(0))[T.M]                            0.7874      0.015     53.723      0.000       0.759       0.816\n",
       "C(posse_de_veiculo, Treatment(0))[T.True]             0.0441      0.014      3.119      0.002       0.016       0.072\n",
       "C(posse_de_imovel, Treatment(0))[T.True]              0.0829      0.014      5.926      0.000       0.055       0.110\n",
       "C(tipo_renda, Treatment(1))[T.Assalariado]           -0.2209      0.241     -0.916      0.360      -0.694       0.252\n",
       "C(tipo_renda, Treatment(1))[T.Empresário]            -0.0657      0.241     -0.272      0.785      -0.539       0.407\n",
       "C(tipo_renda, Treatment(1))[T.Pensionista]           -0.5296      0.341     -1.553      0.120      -1.198       0.139\n",
       "C(tipo_renda, Treatment(1))[T.Servidor público]      -0.1633      0.242     -0.675      0.500      -0.637       0.311\n",
       "C(educacao, Treatment(1))[T.Primário]                -0.1071      0.159     -0.673      0.501      -0.419       0.205\n",
       "C(educacao, Treatment(1))[T.Secundário]              -0.1212      0.142     -0.853      0.394      -0.400       0.157\n",
       "C(educacao, Treatment(1))[T.Superior completo]       -0.0133      0.142     -0.093      0.926      -0.292       0.265\n",
       "C(educacao, Treatment(1))[T.Superior incompleto]     -0.1502      0.145     -1.035      0.301      -0.435       0.134\n",
       "C(estado_civil, Treatment(1))[T.Casado]              -0.3265      0.111     -2.935      0.003      -0.545      -0.108\n",
       "C(estado_civil, Treatment(1))[T.Solteiro]            -0.0593      0.033     -1.809      0.071      -0.124       0.005\n",
       "C(estado_civil, Treatment(1))[T.União]               -0.3607      0.113     -3.182      0.001      -0.583      -0.138\n",
       "C(estado_civil, Treatment(1))[T.Viúvo]                0.0424      0.048      0.875      0.382      -0.053       0.137\n",
       "C(tipo_residencia, Treatment(1))[T.Aluguel]           0.0442      0.054      0.815      0.415      -0.062       0.150\n",
       "C(tipo_residencia, Treatment(1))[T.Com os pais]       0.0184      0.029      0.625      0.532      -0.039       0.076\n",
       "C(tipo_residencia, Treatment(1))[T.Comunitário]      -0.0754      0.091     -0.829      0.407      -0.254       0.103\n",
       "C(tipo_residencia, Treatment(1))[T.Estúdio]           0.1107      0.084      1.319      0.187      -0.054       0.275\n",
       "C(tipo_residencia, Treatment(1))[T.Governamental]    -0.0129      0.039     -0.331      0.741      -0.089       0.064\n",
       "qtd_filhos                                           -0.2658      0.108     -2.463      0.014      -0.477      -0.054\n",
       "idade                                                 0.0053      0.001      6.624      0.000       0.004       0.007\n",
       "tempo_emprego                                         0.0617      0.001     59.398      0.000       0.060       0.064\n",
       "qt_pessoas_residencia                                 0.2926      0.108      2.716      0.007       0.081       0.504\n",
       "==============================================================================\n",
       "Omnibus:                        0.858   Durbin-Watson:                   2.023\n",
       "Prob(Omnibus):                  0.651   Jarque-Bera (JB):                0.839\n",
       "Skew:                           0.019   Prob(JB):                        0.657\n",
       "Kurtosis:                       3.012   Cond. No.                     3.69e+03\n",
       "==============================================================================\n",
       "\n",
       "Notes:\n",
       "[1] Standard Errors assume that the covariance matrix of the errors is correctly specified.\n",
       "[2] The condition number is large, 3.69e+03. This might indicate that there are\n",
       "strong multicollinearity or other numerical problems.\n",
       "\"\"\""
      ]
     },
     "execution_count": 29,
     "metadata": {},
     "output_type": "execute_result"
    }
   ],
   "source": [
    "sm.OLS(y, x).fit().summary()"
   ]
  },
  {
   "cell_type": "code",
   "execution_count": 31,
   "metadata": {},
   "outputs": [],
   "source": [
    "df2 = df.copy()"
   ]
  },
  {
   "cell_type": "code",
   "execution_count": 33,
   "metadata": {},
   "outputs": [
    {
     "data": {
      "text/plain": [
       "tipo_renda\n",
       "Empresário/Assalariado    11141\n",
       "Pensionista                2582\n",
       "Servidor público           1268\n",
       "Bolsista                      9\n",
       "Name: count, dtype: int64"
      ]
     },
     "execution_count": 33,
     "metadata": {},
     "output_type": "execute_result"
    }
   ],
   "source": [
    "df2['tipo_renda'] = df2['tipo_renda'].apply(lambda i: i if i not in ['Empresário', 'Assalariado'] else 'Empresário/Assalariado')\n",
    "df2['tipo_renda'].value_counts()"
   ]
  },
  {
   "cell_type": "code",
   "execution_count": 35,
   "metadata": {},
   "outputs": [
    {
     "data": {
      "text/plain": [
       "estado_civil\n",
       "União/Casado         11612\n",
       "Solteiro/Separado     2677\n",
       "Viúvo                  711\n",
       "Name: count, dtype: int64"
      ]
     },
     "execution_count": 35,
     "metadata": {},
     "output_type": "execute_result"
    }
   ],
   "source": [
    "df2['estado_civil'] = df2['estado_civil'].apply(lambda i: i if i not in ['União', 'Casado'] else 'União/Casado')\n",
    "df2['estado_civil'] = df2['estado_civil'].apply(lambda i: i if i not in ['Solteiro', 'Separado'] else 'Solteiro/Separado')\n",
    "df2['estado_civil'].value_counts()"
   ]
  },
  {
   "cell_type": "code",
   "execution_count": 37,
   "metadata": {},
   "outputs": [
    {
     "data": {
      "text/plain": [
       "educacao\n",
       "Secundário                      8895\n",
       "Superior completo               5335\n",
       "Superior incompleto/Primário     744\n",
       "Pós graduação                     26\n",
       "Name: count, dtype: int64"
      ]
     },
     "execution_count": 37,
     "metadata": {},
     "output_type": "execute_result"
    }
   ],
   "source": [
    "df2['educacao'] = df2['educacao'].apply(lambda i: i if i not in  ['Superior incompleto', 'Primário'] else 'Superior incompleto/Primário')\n",
    "df2['educacao'].value_counts()"
   ]
  },
  {
   "cell_type": "code",
   "execution_count": 39,
   "metadata": {},
   "outputs": [
    {
     "data": {
      "text/plain": [
       "tipo_residencia\n",
       "Casa                     13532\n",
       "Com os pais                675\n",
       "Governamental/Aluguel      646\n",
       "Estúdio                     83\n",
       "Comunitário                 64\n",
       "Name: count, dtype: int64"
      ]
     },
     "execution_count": 39,
     "metadata": {},
     "output_type": "execute_result"
    }
   ],
   "source": [
    "df2['tipo_residencia'] = df2['tipo_residencia'].apply(lambda i: i if i not in  ['Governamental', 'Aluguel'] else 'Governamental/Aluguel')\n",
    "df2['tipo_residencia'].value_counts()"
   ]
  },
  {
   "cell_type": "code",
   "execution_count": null,
   "metadata": {},
   "outputs": [],
   "source": [
    "plt.close('all')\n",
    "\n",
    "plt.rc('figure', figsize=(15, 17))\n",
    "fig, axes = plt.subplots(2, 2)\n",
    "\n",
    "tipo_renda = sns.pointplot(ax = axes[0, 0],y = 'renda', x = 'tipo_renda', data = df2)\n",
    "educação = sns.pointplot(ax = axes[0, 1],y = 'renda', x = 'educacao', data = df2)\n",
    "sns.pointplot(ax = axes[1, 0],y = 'renda', x = 'estado_civil', data = df2)\n",
    "tipo_residencia = sns.pointplot(ax = axes[1, 1],y = 'renda', x = 'tipo_residencia', data = df2)\n",
    "\n",
    "tipo_renda.set_xticklabels(tipo_renda.get_xticklabels(), rotation=90, horizontalalignment='right')\n",
    "educação.set_xticklabels(educação.get_xticklabels(), rotation=90, horizontalalignment='right')\n",
    "tipo_residencia.set_xticklabels(tipo_residencia.get_xticklabels(), rotation=90, horizontalalignment='right')\n",
    "\n",
    "plt.subplots_adjust(wspace=0.4, hspace=0.6)"
   ]
  },
  {
   "cell_type": "code",
   "execution_count": 43,
   "metadata": {},
   "outputs": [
    {
     "data": {
      "text/html": [
       "<table class=\"simpletable\">\n",
       "<caption>OLS Regression Results</caption>\n",
       "<tr>\n",
       "  <th>Dep. Variable:</th>      <td>np.log(renda)</td>  <th>  R-squared:         </th> <td>   0.357</td> \n",
       "</tr>\n",
       "<tr>\n",
       "  <th>Model:</th>                   <td>OLS</td>       <th>  Adj. R-squared:    </th> <td>   0.356</td> \n",
       "</tr>\n",
       "<tr>\n",
       "  <th>Method:</th>             <td>Least Squares</td>  <th>  F-statistic:       </th> <td>   287.5</td> \n",
       "</tr>\n",
       "<tr>\n",
       "  <th>Date:</th>             <td>Wed, 25 Jun 2025</td> <th>  Prob (F-statistic):</th>  <td>  0.00</td>  \n",
       "</tr>\n",
       "<tr>\n",
       "  <th>Time:</th>                 <td>13:42:58</td>     <th>  Log-Likelihood:    </th> <td> -13568.</td> \n",
       "</tr>\n",
       "<tr>\n",
       "  <th>No. Observations:</th>      <td> 12427</td>      <th>  AIC:               </th> <td>2.719e+04</td>\n",
       "</tr>\n",
       "<tr>\n",
       "  <th>Df Residuals:</th>          <td> 12402</td>      <th>  BIC:               </th> <td>2.737e+04</td>\n",
       "</tr>\n",
       "<tr>\n",
       "  <th>Df Model:</th>              <td>    24</td>      <th>                     </th>     <td> </td>    \n",
       "</tr>\n",
       "<tr>\n",
       "  <th>Covariance Type:</th>      <td>nonrobust</td>    <th>                     </th>     <td> </td>    \n",
       "</tr>\n",
       "</table>\n",
       "<table class=\"simpletable\">\n",
       "<tr>\n",
       "                          <td></td>                             <th>coef</th>     <th>std err</th>      <th>t</th>      <th>P>|t|</th>  <th>[0.025</th>    <th>0.975]</th>  \n",
       "</tr>\n",
       "<tr>\n",
       "  <th>Intercept</th>                                         <td>    7.1950</td> <td>    0.304</td> <td>   23.660</td> <td> 0.000</td> <td>    6.599</td> <td>    7.791</td>\n",
       "</tr>\n",
       "<tr>\n",
       "  <th>C(sexo, Treatment(0))[T.M]</th>                        <td>    0.7874</td> <td>    0.015</td> <td>   53.723</td> <td> 0.000</td> <td>    0.759</td> <td>    0.816</td>\n",
       "</tr>\n",
       "<tr>\n",
       "  <th>C(posse_de_veiculo, Treatment(0))[T.True]</th>         <td>    0.0441</td> <td>    0.014</td> <td>    3.119</td> <td> 0.002</td> <td>    0.016</td> <td>    0.072</td>\n",
       "</tr>\n",
       "<tr>\n",
       "  <th>C(posse_de_imovel, Treatment(0))[T.True]</th>          <td>    0.0829</td> <td>    0.014</td> <td>    5.926</td> <td> 0.000</td> <td>    0.055</td> <td>    0.110</td>\n",
       "</tr>\n",
       "<tr>\n",
       "  <th>C(tipo_renda, Treatment(1))[T.Assalariado]</th>        <td>   -0.2209</td> <td>    0.241</td> <td>   -0.916</td> <td> 0.360</td> <td>   -0.694</td> <td>    0.252</td>\n",
       "</tr>\n",
       "<tr>\n",
       "  <th>C(tipo_renda, Treatment(1))[T.Empresário]</th>         <td>   -0.0657</td> <td>    0.241</td> <td>   -0.272</td> <td> 0.785</td> <td>   -0.539</td> <td>    0.407</td>\n",
       "</tr>\n",
       "<tr>\n",
       "  <th>C(tipo_renda, Treatment(1))[T.Pensionista]</th>        <td>   -0.5296</td> <td>    0.341</td> <td>   -1.553</td> <td> 0.120</td> <td>   -1.198</td> <td>    0.139</td>\n",
       "</tr>\n",
       "<tr>\n",
       "  <th>C(tipo_renda, Treatment(1))[T.Servidor público]</th>   <td>   -0.1633</td> <td>    0.242</td> <td>   -0.675</td> <td> 0.500</td> <td>   -0.637</td> <td>    0.311</td>\n",
       "</tr>\n",
       "<tr>\n",
       "  <th>C(educacao, Treatment(1))[T.Primário]</th>             <td>   -0.1071</td> <td>    0.159</td> <td>   -0.673</td> <td> 0.501</td> <td>   -0.419</td> <td>    0.205</td>\n",
       "</tr>\n",
       "<tr>\n",
       "  <th>C(educacao, Treatment(1))[T.Secundário]</th>           <td>   -0.1212</td> <td>    0.142</td> <td>   -0.853</td> <td> 0.394</td> <td>   -0.400</td> <td>    0.157</td>\n",
       "</tr>\n",
       "<tr>\n",
       "  <th>C(educacao, Treatment(1))[T.Superior completo]</th>    <td>   -0.0133</td> <td>    0.142</td> <td>   -0.093</td> <td> 0.926</td> <td>   -0.292</td> <td>    0.265</td>\n",
       "</tr>\n",
       "<tr>\n",
       "  <th>C(educacao, Treatment(1))[T.Superior incompleto]</th>  <td>   -0.1502</td> <td>    0.145</td> <td>   -1.035</td> <td> 0.301</td> <td>   -0.435</td> <td>    0.134</td>\n",
       "</tr>\n",
       "<tr>\n",
       "  <th>C(estado_civil, Treatment(1))[T.Casado]</th>           <td>   -0.3265</td> <td>    0.111</td> <td>   -2.935</td> <td> 0.003</td> <td>   -0.545</td> <td>   -0.108</td>\n",
       "</tr>\n",
       "<tr>\n",
       "  <th>C(estado_civil, Treatment(1))[T.Solteiro]</th>         <td>   -0.0593</td> <td>    0.033</td> <td>   -1.809</td> <td> 0.071</td> <td>   -0.124</td> <td>    0.005</td>\n",
       "</tr>\n",
       "<tr>\n",
       "  <th>C(estado_civil, Treatment(1))[T.União]</th>            <td>   -0.3607</td> <td>    0.113</td> <td>   -3.182</td> <td> 0.001</td> <td>   -0.583</td> <td>   -0.138</td>\n",
       "</tr>\n",
       "<tr>\n",
       "  <th>C(estado_civil, Treatment(1))[T.Viúvo]</th>            <td>    0.0424</td> <td>    0.048</td> <td>    0.875</td> <td> 0.382</td> <td>   -0.053</td> <td>    0.137</td>\n",
       "</tr>\n",
       "<tr>\n",
       "  <th>C(tipo_residencia, Treatment(1))[T.Aluguel]</th>       <td>    0.0442</td> <td>    0.054</td> <td>    0.815</td> <td> 0.415</td> <td>   -0.062</td> <td>    0.150</td>\n",
       "</tr>\n",
       "<tr>\n",
       "  <th>C(tipo_residencia, Treatment(1))[T.Com os pais]</th>   <td>    0.0184</td> <td>    0.029</td> <td>    0.625</td> <td> 0.532</td> <td>   -0.039</td> <td>    0.076</td>\n",
       "</tr>\n",
       "<tr>\n",
       "  <th>C(tipo_residencia, Treatment(1))[T.Comunitário]</th>   <td>   -0.0754</td> <td>    0.091</td> <td>   -0.829</td> <td> 0.407</td> <td>   -0.254</td> <td>    0.103</td>\n",
       "</tr>\n",
       "<tr>\n",
       "  <th>C(tipo_residencia, Treatment(1))[T.Estúdio]</th>       <td>    0.1107</td> <td>    0.084</td> <td>    1.319</td> <td> 0.187</td> <td>   -0.054</td> <td>    0.275</td>\n",
       "</tr>\n",
       "<tr>\n",
       "  <th>C(tipo_residencia, Treatment(1))[T.Governamental]</th> <td>   -0.0129</td> <td>    0.039</td> <td>   -0.331</td> <td> 0.741</td> <td>   -0.089</td> <td>    0.064</td>\n",
       "</tr>\n",
       "<tr>\n",
       "  <th>qtd_filhos</th>                                        <td>   -0.2658</td> <td>    0.108</td> <td>   -2.463</td> <td> 0.014</td> <td>   -0.477</td> <td>   -0.054</td>\n",
       "</tr>\n",
       "<tr>\n",
       "  <th>idade</th>                                             <td>    0.0053</td> <td>    0.001</td> <td>    6.624</td> <td> 0.000</td> <td>    0.004</td> <td>    0.007</td>\n",
       "</tr>\n",
       "<tr>\n",
       "  <th>tempo_emprego</th>                                     <td>    0.0617</td> <td>    0.001</td> <td>   59.398</td> <td> 0.000</td> <td>    0.060</td> <td>    0.064</td>\n",
       "</tr>\n",
       "<tr>\n",
       "  <th>qt_pessoas_residencia</th>                             <td>    0.2926</td> <td>    0.108</td> <td>    2.716</td> <td> 0.007</td> <td>    0.081</td> <td>    0.504</td>\n",
       "</tr>\n",
       "</table>\n",
       "<table class=\"simpletable\">\n",
       "<tr>\n",
       "  <th>Omnibus:</th>       <td> 0.858</td> <th>  Durbin-Watson:     </th> <td>   2.023</td>\n",
       "</tr>\n",
       "<tr>\n",
       "  <th>Prob(Omnibus):</th> <td> 0.651</td> <th>  Jarque-Bera (JB):  </th> <td>   0.839</td>\n",
       "</tr>\n",
       "<tr>\n",
       "  <th>Skew:</th>          <td> 0.019</td> <th>  Prob(JB):          </th> <td>   0.657</td>\n",
       "</tr>\n",
       "<tr>\n",
       "  <th>Kurtosis:</th>      <td> 3.012</td> <th>  Cond. No.          </th> <td>3.69e+03</td>\n",
       "</tr>\n",
       "</table><br/><br/>Notes:<br/>[1] Standard Errors assume that the covariance matrix of the errors is correctly specified.<br/>[2] The condition number is large, 3.69e+03. This might indicate that there are<br/>strong multicollinearity or other numerical problems."
      ],
      "text/latex": [
       "\\begin{center}\n",
       "\\begin{tabular}{lclc}\n",
       "\\toprule\n",
       "\\textbf{Dep. Variable:}                                     &  np.log(renda)   & \\textbf{  R-squared:         } &     0.357   \\\\\n",
       "\\textbf{Model:}                                             &       OLS        & \\textbf{  Adj. R-squared:    } &     0.356   \\\\\n",
       "\\textbf{Method:}                                            &  Least Squares   & \\textbf{  F-statistic:       } &     287.5   \\\\\n",
       "\\textbf{Date:}                                              & Wed, 25 Jun 2025 & \\textbf{  Prob (F-statistic):} &     0.00    \\\\\n",
       "\\textbf{Time:}                                              &     13:42:58     & \\textbf{  Log-Likelihood:    } &   -13568.   \\\\\n",
       "\\textbf{No. Observations:}                                  &       12427      & \\textbf{  AIC:               } & 2.719e+04   \\\\\n",
       "\\textbf{Df Residuals:}                                      &       12402      & \\textbf{  BIC:               } & 2.737e+04   \\\\\n",
       "\\textbf{Df Model:}                                          &          24      & \\textbf{                     } &             \\\\\n",
       "\\textbf{Covariance Type:}                                   &    nonrobust     & \\textbf{                     } &             \\\\\n",
       "\\bottomrule\n",
       "\\end{tabular}\n",
       "\\begin{tabular}{lcccccc}\n",
       "                                                            & \\textbf{coef} & \\textbf{std err} & \\textbf{t} & \\textbf{P$> |$t$|$} & \\textbf{[0.025} & \\textbf{0.975]}  \\\\\n",
       "\\midrule\n",
       "\\textbf{Intercept}                                          &       7.1950  &        0.304     &    23.660  &         0.000        &        6.599    &        7.791     \\\\\n",
       "\\textbf{C(sexo, Treatment(0))[T.M]}                         &       0.7874  &        0.015     &    53.723  &         0.000        &        0.759    &        0.816     \\\\\n",
       "\\textbf{C(posse\\_de\\_veiculo, Treatment(0))[T.True]}        &       0.0441  &        0.014     &     3.119  &         0.002        &        0.016    &        0.072     \\\\\n",
       "\\textbf{C(posse\\_de\\_imovel, Treatment(0))[T.True]}         &       0.0829  &        0.014     &     5.926  &         0.000        &        0.055    &        0.110     \\\\\n",
       "\\textbf{C(tipo\\_renda, Treatment(1))[T.Assalariado]}        &      -0.2209  &        0.241     &    -0.916  &         0.360        &       -0.694    &        0.252     \\\\\n",
       "\\textbf{C(tipo\\_renda, Treatment(1))[T.Empresário]}         &      -0.0657  &        0.241     &    -0.272  &         0.785        &       -0.539    &        0.407     \\\\\n",
       "\\textbf{C(tipo\\_renda, Treatment(1))[T.Pensionista]}        &      -0.5296  &        0.341     &    -1.553  &         0.120        &       -1.198    &        0.139     \\\\\n",
       "\\textbf{C(tipo\\_renda, Treatment(1))[T.Servidor público]}   &      -0.1633  &        0.242     &    -0.675  &         0.500        &       -0.637    &        0.311     \\\\\n",
       "\\textbf{C(educacao, Treatment(1))[T.Primário]}              &      -0.1071  &        0.159     &    -0.673  &         0.501        &       -0.419    &        0.205     \\\\\n",
       "\\textbf{C(educacao, Treatment(1))[T.Secundário]}            &      -0.1212  &        0.142     &    -0.853  &         0.394        &       -0.400    &        0.157     \\\\\n",
       "\\textbf{C(educacao, Treatment(1))[T.Superior completo]}     &      -0.0133  &        0.142     &    -0.093  &         0.926        &       -0.292    &        0.265     \\\\\n",
       "\\textbf{C(educacao, Treatment(1))[T.Superior incompleto]}   &      -0.1502  &        0.145     &    -1.035  &         0.301        &       -0.435    &        0.134     \\\\\n",
       "\\textbf{C(estado\\_civil, Treatment(1))[T.Casado]}           &      -0.3265  &        0.111     &    -2.935  &         0.003        &       -0.545    &       -0.108     \\\\\n",
       "\\textbf{C(estado\\_civil, Treatment(1))[T.Solteiro]}         &      -0.0593  &        0.033     &    -1.809  &         0.071        &       -0.124    &        0.005     \\\\\n",
       "\\textbf{C(estado\\_civil, Treatment(1))[T.União]}            &      -0.3607  &        0.113     &    -3.182  &         0.001        &       -0.583    &       -0.138     \\\\\n",
       "\\textbf{C(estado\\_civil, Treatment(1))[T.Viúvo]}            &       0.0424  &        0.048     &     0.875  &         0.382        &       -0.053    &        0.137     \\\\\n",
       "\\textbf{C(tipo\\_residencia, Treatment(1))[T.Aluguel]}       &       0.0442  &        0.054     &     0.815  &         0.415        &       -0.062    &        0.150     \\\\\n",
       "\\textbf{C(tipo\\_residencia, Treatment(1))[T.Com os pais]}   &       0.0184  &        0.029     &     0.625  &         0.532        &       -0.039    &        0.076     \\\\\n",
       "\\textbf{C(tipo\\_residencia, Treatment(1))[T.Comunitário]}   &      -0.0754  &        0.091     &    -0.829  &         0.407        &       -0.254    &        0.103     \\\\\n",
       "\\textbf{C(tipo\\_residencia, Treatment(1))[T.Estúdio]}       &       0.1107  &        0.084     &     1.319  &         0.187        &       -0.054    &        0.275     \\\\\n",
       "\\textbf{C(tipo\\_residencia, Treatment(1))[T.Governamental]} &      -0.0129  &        0.039     &    -0.331  &         0.741        &       -0.089    &        0.064     \\\\\n",
       "\\textbf{qtd\\_filhos}                                        &      -0.2658  &        0.108     &    -2.463  &         0.014        &       -0.477    &       -0.054     \\\\\n",
       "\\textbf{idade}                                              &       0.0053  &        0.001     &     6.624  &         0.000        &        0.004    &        0.007     \\\\\n",
       "\\textbf{tempo\\_emprego}                                     &       0.0617  &        0.001     &    59.398  &         0.000        &        0.060    &        0.064     \\\\\n",
       "\\textbf{qt\\_pessoas\\_residencia}                            &       0.2926  &        0.108     &     2.716  &         0.007        &        0.081    &        0.504     \\\\\n",
       "\\bottomrule\n",
       "\\end{tabular}\n",
       "\\begin{tabular}{lclc}\n",
       "\\textbf{Omnibus:}       &  0.858 & \\textbf{  Durbin-Watson:     } &    2.023  \\\\\n",
       "\\textbf{Prob(Omnibus):} &  0.651 & \\textbf{  Jarque-Bera (JB):  } &    0.839  \\\\\n",
       "\\textbf{Skew:}          &  0.019 & \\textbf{  Prob(JB):          } &    0.657  \\\\\n",
       "\\textbf{Kurtosis:}      &  3.012 & \\textbf{  Cond. No.          } & 3.69e+03  \\\\\n",
       "\\bottomrule\n",
       "\\end{tabular}\n",
       "%\\caption{OLS Regression Results}\n",
       "\\end{center}\n",
       "\n",
       "Notes: \\newline\n",
       " [1] Standard Errors assume that the covariance matrix of the errors is correctly specified. \\newline\n",
       " [2] The condition number is large, 3.69e+03. This might indicate that there are \\newline\n",
       " strong multicollinearity or other numerical problems."
      ],
      "text/plain": [
       "<class 'statsmodels.iolib.summary.Summary'>\n",
       "\"\"\"\n",
       "                            OLS Regression Results                            \n",
       "==============================================================================\n",
       "Dep. Variable:          np.log(renda)   R-squared:                       0.357\n",
       "Model:                            OLS   Adj. R-squared:                  0.356\n",
       "Method:                 Least Squares   F-statistic:                     287.5\n",
       "Date:                Wed, 25 Jun 2025   Prob (F-statistic):               0.00\n",
       "Time:                        13:42:58   Log-Likelihood:                -13568.\n",
       "No. Observations:               12427   AIC:                         2.719e+04\n",
       "Df Residuals:                   12402   BIC:                         2.737e+04\n",
       "Df Model:                          24                                         \n",
       "Covariance Type:            nonrobust                                         \n",
       "=====================================================================================================================\n",
       "                                                        coef    std err          t      P>|t|      [0.025      0.975]\n",
       "---------------------------------------------------------------------------------------------------------------------\n",
       "Intercept                                             7.1950      0.304     23.660      0.000       6.599       7.791\n",
       "C(sexo, Treatment(0))[T.M]                            0.7874      0.015     53.723      0.000       0.759       0.816\n",
       "C(posse_de_veiculo, Treatment(0))[T.True]             0.0441      0.014      3.119      0.002       0.016       0.072\n",
       "C(posse_de_imovel, Treatment(0))[T.True]              0.0829      0.014      5.926      0.000       0.055       0.110\n",
       "C(tipo_renda, Treatment(1))[T.Assalariado]           -0.2209      0.241     -0.916      0.360      -0.694       0.252\n",
       "C(tipo_renda, Treatment(1))[T.Empresário]            -0.0657      0.241     -0.272      0.785      -0.539       0.407\n",
       "C(tipo_renda, Treatment(1))[T.Pensionista]           -0.5296      0.341     -1.553      0.120      -1.198       0.139\n",
       "C(tipo_renda, Treatment(1))[T.Servidor público]      -0.1633      0.242     -0.675      0.500      -0.637       0.311\n",
       "C(educacao, Treatment(1))[T.Primário]                -0.1071      0.159     -0.673      0.501      -0.419       0.205\n",
       "C(educacao, Treatment(1))[T.Secundário]              -0.1212      0.142     -0.853      0.394      -0.400       0.157\n",
       "C(educacao, Treatment(1))[T.Superior completo]       -0.0133      0.142     -0.093      0.926      -0.292       0.265\n",
       "C(educacao, Treatment(1))[T.Superior incompleto]     -0.1502      0.145     -1.035      0.301      -0.435       0.134\n",
       "C(estado_civil, Treatment(1))[T.Casado]              -0.3265      0.111     -2.935      0.003      -0.545      -0.108\n",
       "C(estado_civil, Treatment(1))[T.Solteiro]            -0.0593      0.033     -1.809      0.071      -0.124       0.005\n",
       "C(estado_civil, Treatment(1))[T.União]               -0.3607      0.113     -3.182      0.001      -0.583      -0.138\n",
       "C(estado_civil, Treatment(1))[T.Viúvo]                0.0424      0.048      0.875      0.382      -0.053       0.137\n",
       "C(tipo_residencia, Treatment(1))[T.Aluguel]           0.0442      0.054      0.815      0.415      -0.062       0.150\n",
       "C(tipo_residencia, Treatment(1))[T.Com os pais]       0.0184      0.029      0.625      0.532      -0.039       0.076\n",
       "C(tipo_residencia, Treatment(1))[T.Comunitário]      -0.0754      0.091     -0.829      0.407      -0.254       0.103\n",
       "C(tipo_residencia, Treatment(1))[T.Estúdio]           0.1107      0.084      1.319      0.187      -0.054       0.275\n",
       "C(tipo_residencia, Treatment(1))[T.Governamental]    -0.0129      0.039     -0.331      0.741      -0.089       0.064\n",
       "qtd_filhos                                           -0.2658      0.108     -2.463      0.014      -0.477      -0.054\n",
       "idade                                                 0.0053      0.001      6.624      0.000       0.004       0.007\n",
       "tempo_emprego                                         0.0617      0.001     59.398      0.000       0.060       0.064\n",
       "qt_pessoas_residencia                                 0.2926      0.108      2.716      0.007       0.081       0.504\n",
       "==============================================================================\n",
       "Omnibus:                        0.858   Durbin-Watson:                   2.023\n",
       "Prob(Omnibus):                  0.651   Jarque-Bera (JB):                0.839\n",
       "Skew:                           0.019   Prob(JB):                        0.657\n",
       "Kurtosis:                       3.012   Cond. No.                     3.69e+03\n",
       "==============================================================================\n",
       "\n",
       "Notes:\n",
       "[1] Standard Errors assume that the covariance matrix of the errors is correctly specified.\n",
       "[2] The condition number is large, 3.69e+03. This might indicate that there are\n",
       "strong multicollinearity or other numerical problems.\n",
       "\"\"\""
      ]
     },
     "execution_count": 43,
     "metadata": {},
     "output_type": "execute_result"
    }
   ],
   "source": [
    "sm.OLS(y, x).fit().summary()"
   ]
  },
  {
   "cell_type": "code",
   "execution_count": 45,
   "metadata": {},
   "outputs": [],
   "source": [
    "df2 = df.copy()"
   ]
  },
  {
   "cell_type": "code",
   "execution_count": 47,
   "metadata": {},
   "outputs": [
    {
     "data": {
      "text/html": [
       "<div>\n",
       "<style scoped>\n",
       "    .dataframe tbody tr th:only-of-type {\n",
       "        vertical-align: middle;\n",
       "    }\n",
       "\n",
       "    .dataframe tbody tr th {\n",
       "        vertical-align: top;\n",
       "    }\n",
       "\n",
       "    .dataframe thead th {\n",
       "        text-align: right;\n",
       "    }\n",
       "</style>\n",
       "<table border=\"1\" class=\"dataframe\">\n",
       "  <thead>\n",
       "    <tr style=\"text-align: right;\">\n",
       "      <th></th>\n",
       "      <th>id_cliente</th>\n",
       "      <th>qtd_filhos</th>\n",
       "      <th>idade</th>\n",
       "      <th>tempo_emprego</th>\n",
       "      <th>qt_pessoas_residencia</th>\n",
       "      <th>renda</th>\n",
       "    </tr>\n",
       "  </thead>\n",
       "  <tbody>\n",
       "    <tr>\n",
       "      <th>0</th>\n",
       "      <td>15056</td>\n",
       "      <td>0</td>\n",
       "      <td>26</td>\n",
       "      <td>6.602740</td>\n",
       "      <td>1.0</td>\n",
       "      <td>8060.34</td>\n",
       "    </tr>\n",
       "    <tr>\n",
       "      <th>1</th>\n",
       "      <td>9968</td>\n",
       "      <td>0</td>\n",
       "      <td>28</td>\n",
       "      <td>7.183562</td>\n",
       "      <td>2.0</td>\n",
       "      <td>1852.15</td>\n",
       "    </tr>\n",
       "    <tr>\n",
       "      <th>2</th>\n",
       "      <td>4312</td>\n",
       "      <td>0</td>\n",
       "      <td>35</td>\n",
       "      <td>0.838356</td>\n",
       "      <td>2.0</td>\n",
       "      <td>2253.89</td>\n",
       "    </tr>\n",
       "    <tr>\n",
       "      <th>3</th>\n",
       "      <td>10639</td>\n",
       "      <td>1</td>\n",
       "      <td>30</td>\n",
       "      <td>4.846575</td>\n",
       "      <td>3.0</td>\n",
       "      <td>6600.77</td>\n",
       "    </tr>\n",
       "    <tr>\n",
       "      <th>4</th>\n",
       "      <td>7064</td>\n",
       "      <td>0</td>\n",
       "      <td>33</td>\n",
       "      <td>4.293151</td>\n",
       "      <td>1.0</td>\n",
       "      <td>6475.97</td>\n",
       "    </tr>\n",
       "  </tbody>\n",
       "</table>\n",
       "</div>"
      ],
      "text/plain": [
       "   id_cliente  qtd_filhos  idade  tempo_emprego  qt_pessoas_residencia  \\\n",
       "0       15056           0     26       6.602740                    1.0   \n",
       "1        9968           0     28       7.183562                    2.0   \n",
       "2        4312           0     35       0.838356                    2.0   \n",
       "3       10639           1     30       4.846575                    3.0   \n",
       "4        7064           0     33       4.293151                    1.0   \n",
       "\n",
       "     renda  \n",
       "0  8060.34  \n",
       "1  1852.15  \n",
       "2  2253.89  \n",
       "3  6600.77  \n",
       "4  6475.97  "
      ]
     },
     "execution_count": 47,
     "metadata": {},
     "output_type": "execute_result"
    }
   ],
   "source": [
    "var_qualitativa = df.select_dtypes(include=['int64','float64'])\n",
    "var_qualitativa.head()"
   ]
  },
  {
   "cell_type": "code",
   "execution_count": 49,
   "metadata": {},
   "outputs": [
    {
     "data": {
      "text/html": [
       "<div>\n",
       "<style scoped>\n",
       "    .dataframe tbody tr th:only-of-type {\n",
       "        vertical-align: middle;\n",
       "    }\n",
       "\n",
       "    .dataframe tbody tr th {\n",
       "        vertical-align: top;\n",
       "    }\n",
       "\n",
       "    .dataframe thead th {\n",
       "        text-align: right;\n",
       "    }\n",
       "</style>\n",
       "<table border=\"1\" class=\"dataframe\">\n",
       "  <thead>\n",
       "    <tr style=\"text-align: right;\">\n",
       "      <th></th>\n",
       "      <th>qtd_filhos</th>\n",
       "      <th>idade</th>\n",
       "      <th>tempo_emprego</th>\n",
       "      <th>qt_pessoas_residencia</th>\n",
       "      <th>renda</th>\n",
       "    </tr>\n",
       "  </thead>\n",
       "  <tbody>\n",
       "    <tr>\n",
       "      <th>0</th>\n",
       "      <td>0</td>\n",
       "      <td>26</td>\n",
       "      <td>6.602740</td>\n",
       "      <td>1.0</td>\n",
       "      <td>8060.34</td>\n",
       "    </tr>\n",
       "    <tr>\n",
       "      <th>1</th>\n",
       "      <td>0</td>\n",
       "      <td>28</td>\n",
       "      <td>7.183562</td>\n",
       "      <td>2.0</td>\n",
       "      <td>1852.15</td>\n",
       "    </tr>\n",
       "    <tr>\n",
       "      <th>2</th>\n",
       "      <td>0</td>\n",
       "      <td>35</td>\n",
       "      <td>0.838356</td>\n",
       "      <td>2.0</td>\n",
       "      <td>2253.89</td>\n",
       "    </tr>\n",
       "    <tr>\n",
       "      <th>3</th>\n",
       "      <td>1</td>\n",
       "      <td>30</td>\n",
       "      <td>4.846575</td>\n",
       "      <td>3.0</td>\n",
       "      <td>6600.77</td>\n",
       "    </tr>\n",
       "    <tr>\n",
       "      <th>4</th>\n",
       "      <td>0</td>\n",
       "      <td>33</td>\n",
       "      <td>4.293151</td>\n",
       "      <td>1.0</td>\n",
       "      <td>6475.97</td>\n",
       "    </tr>\n",
       "  </tbody>\n",
       "</table>\n",
       "</div>"
      ],
      "text/plain": [
       "   qtd_filhos  idade  tempo_emprego  qt_pessoas_residencia    renda\n",
       "0           0     26       6.602740                    1.0  8060.34\n",
       "1           0     28       7.183562                    2.0  1852.15\n",
       "2           0     35       0.838356                    2.0  2253.89\n",
       "3           1     30       4.846575                    3.0  6600.77\n",
       "4           0     33       4.293151                    1.0  6475.97"
      ]
     },
     "execution_count": 49,
     "metadata": {},
     "output_type": "execute_result"
    }
   ],
   "source": [
    "var_qualitativa.drop('id_cliente', axis = 1, inplace=True)\n",
    "var_qualitativa.head()"
   ]
  },
  {
   "cell_type": "code",
   "execution_count": 51,
   "metadata": {},
   "outputs": [
    {
     "data": {
      "text/plain": [
       "qtd_filhos\n",
       "0     10376\n",
       "1      3037\n",
       "2      1376\n",
       "3       185\n",
       "4        17\n",
       "7         5\n",
       "14        2\n",
       "5         2\n",
       "Name: count, dtype: int64"
      ]
     },
     "execution_count": 51,
     "metadata": {},
     "output_type": "execute_result"
    }
   ],
   "source": [
    "var_qualitativa['qtd_filhos'].value_counts()"
   ]
  },
  {
   "cell_type": "code",
   "execution_count": 53,
   "metadata": {},
   "outputs": [
    {
     "data": {
      "text/plain": [
       "idade\n",
       "40    538\n",
       "37    469\n",
       "43    458\n",
       "32    455\n",
       "33    441\n",
       "Name: count, dtype: int64"
      ]
     },
     "execution_count": 53,
     "metadata": {},
     "output_type": "execute_result"
    }
   ],
   "source": [
    "idade = var_qualitativa['idade'].value_counts()\n",
    "idade.head()"
   ]
  },
  {
   "cell_type": "code",
   "execution_count": 55,
   "metadata": {},
   "outputs": [
    {
     "data": {
      "text/plain": [
       "tempo_emprego\n",
       "4.216438     38\n",
       "6.934247     30\n",
       "7.520548     29\n",
       "15.449315    27\n",
       "5.717808     26\n",
       "Name: count, dtype: int64"
      ]
     },
     "execution_count": 55,
     "metadata": {},
     "output_type": "execute_result"
    }
   ],
   "source": [
    "tempo_emprego = var_qualitativa['tempo_emprego'].value_counts()\n",
    "tempo_emprego.head()"
   ]
  },
  {
   "cell_type": "code",
   "execution_count": 57,
   "metadata": {},
   "outputs": [
    {
     "data": {
      "text/plain": [
       "qt_pessoas_residencia\n",
       "2.0    8181\n",
       "1.0    2752\n",
       "3.0    2551\n",
       "4.0    1311\n",
       "5.0     179\n",
       "Name: count, dtype: int64"
      ]
     },
     "execution_count": 57,
     "metadata": {},
     "output_type": "execute_result"
    }
   ],
   "source": [
    "qt_pessoas_residencia = var_qualitativa['qt_pessoas_residencia'].value_counts()\n",
    "qt_pessoas_residencia.head()"
   ]
  },
  {
   "cell_type": "code",
   "execution_count": null,
   "metadata": {},
   "outputs": [],
   "source": [
    "plt.close('all')\n",
    "\n",
    "plt.rc('figure', figsize=(15, 15))\n",
    "fig, axes = plt.subplots(2, 2)\n",
    "\n",
    "sns.pointplot(ax = axes[0, 0],y = 'renda', x = 'qtd_filhos', data = df2)\n",
    "idade = sns.barplot(ax = axes[0, 1],y = 'renda', x = 'idade', data = df2)\n",
    "tempo_emprego = sns.barplot(ax = axes[1, 0],y='tempo_emprego', x='renda', data=df2)\n",
    "sns.pointplot(ax = axes[1, 1],y = 'renda', x = 'qt_pessoas_residencia', data = df2)\n",
    "\n",
    "idade.set_xticklabels(idade.get_xticklabels(), rotation=90, horizontalalignment='right')\n",
    "tempo_emprego.set_xticklabels(tempo_emprego.get_xticklabels(), rotation=90, horizontalalignment='right')\n",
    "\n",
    "plt.subplots_adjust(wspace=0.15, hspace=0.5)"
   ]
  },
  {
   "cell_type": "code",
   "execution_count": null,
   "metadata": {},
   "outputs": [],
   "source": [
    "y, x = patsy.dmatrices('''np.log(renda) ~ C(sexo, Treatment(0))\n",
    "                               + C(posse_de_veiculo, Treatment(0))  \n",
    "                               + C(posse_de_imovel, Treatment(0))\n",
    "                               + C(tipo_renda, Treatment(1))\n",
    "                               + C(educacao, Treatment(1))\n",
    "                               + C(estado_civil, Treatment(1))\n",
    "                               + C(tipo_residencia, Treatment(1))                                                           \n",
    "                               + C(qtd_filhos, Treatment(2))    \n",
    "                               + idade\n",
    "                               + tempo_emprego\n",
    "                               + C(qt_pessoas_residencia, Treatment(2))    \n",
    "                       ''', data = df2)\n",
    "x"
   ]
  },
  {
   "cell_type": "code",
   "execution_count": null,
   "metadata": {},
   "outputs": [],
   "source": [
    "sm.OLS(y, x).fit().summary()"
   ]
  },
  {
   "cell_type": "code",
   "execution_count": null,
   "metadata": {},
   "outputs": [],
   "source": [
    "df2.loc[df2['qtd_filhos']>=3, 'qtd_filhos'] = '3+'\n",
    "df2['qtd_filhos'].value_counts()"
   ]
  },
  {
   "cell_type": "code",
   "execution_count": null,
   "metadata": {},
   "outputs": [],
   "source": [
    "df2.loc[df2['qt_pessoas_residencia']>=4, 'qt_pessoas_residencia'] = '4+'\n",
    "df2['qt_pessoas_residencia'].value_counts()"
   ]
  },
  {
   "cell_type": "code",
   "execution_count": null,
   "metadata": {},
   "outputs": [],
   "source": [
    "plt.close('all')\n",
    "\n",
    "plt.rc('figure', figsize=(15, 15))\n",
    "\n",
    "qtd_filhos = sns.pointplot(y = 'renda', x = 'qtd_filhos', data = df2)\n",
    "qt_pessoas_residencia = sns.pointplot(y = 'renda', x = 'qt_pessoas_residencia', data = df2)\n",
    "\n",
    "qtd_filhos.set_xticklabels(qtd_filhos.get_xticklabels(), rotation=90, horizontalalignment='right')\n",
    "qt_pessoas_residencia.set_xticklabels(qt_pessoas_residencia.get_xticklabels(), rotation=90, horizontalalignment='right')\n",
    "\n",
    "plt.subplots_adjust(wspace=0.15, hspace=0.5)\n"
   ]
  }
 ],
 "metadata": {
  "kernelspec": {
   "display_name": "Python [conda env:base] *",
   "language": "python",
   "name": "conda-base-py"
  },
  "language_info": {
   "codemirror_mode": {
    "name": "ipython",
    "version": 3
   },
   "file_extension": ".py",
   "mimetype": "text/x-python",
   "name": "python",
   "nbconvert_exporter": "python",
   "pygments_lexer": "ipython3",
   "version": "3.12.7"
  }
 },
 "nbformat": 4,
 "nbformat_minor": 4
}
